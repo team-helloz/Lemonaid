{
 "cells": [
  {
   "cell_type": "code",
   "execution_count": 19,
   "id": "7caa69be",
   "metadata": {},
   "outputs": [],
   "source": [
    "import pandas as pd"
   ]
  },
  {
   "cell_type": "code",
   "execution_count": 23,
   "id": "98032c65",
   "metadata": {},
   "outputs": [
    {
     "data": {
      "text/html": [
       "<div>\n",
       "<style scoped>\n",
       "    .dataframe tbody tr th:only-of-type {\n",
       "        vertical-align: middle;\n",
       "    }\n",
       "\n",
       "    .dataframe tbody tr th {\n",
       "        vertical-align: top;\n",
       "    }\n",
       "\n",
       "    .dataframe thead th {\n",
       "        text-align: right;\n",
       "    }\n",
       "</style>\n",
       "<table border=\"1\" class=\"dataframe\">\n",
       "  <thead>\n",
       "    <tr style=\"text-align: right;\">\n",
       "      <th></th>\n",
       "      <th>disease_no</th>\n",
       "      <th>disease_name</th>\n",
       "    </tr>\n",
       "  </thead>\n",
       "  <tbody>\n",
       "    <tr>\n",
       "      <th>1</th>\n",
       "      <td>1</td>\n",
       "      <td>18번 염색체 단완결실 증후군(18p monosomy)</td>\n",
       "    </tr>\n",
       "    <tr>\n",
       "      <th>2</th>\n",
       "      <td>2</td>\n",
       "      <td>18번 염색체 장완결실 증후군 (18q monosomy)</td>\n",
       "    </tr>\n",
       "    <tr>\n",
       "      <th>3</th>\n",
       "      <td>3</td>\n",
       "      <td>22번 염색체 장완 미세결실 증후군(CATCH22)</td>\n",
       "    </tr>\n",
       "    <tr>\n",
       "      <th>4</th>\n",
       "      <td>4</td>\n",
       "      <td>4번 염색체 단완결실 증후군(Wolf-Hirschhorn syndrome)</td>\n",
       "    </tr>\n",
       "    <tr>\n",
       "      <th>5</th>\n",
       "      <td>5</td>\n",
       "      <td>ARC 증후군(Arthrogryposis, Renal dysfunction, Cho...</td>\n",
       "    </tr>\n",
       "    <tr>\n",
       "      <th>...</th>\n",
       "      <td>...</td>\n",
       "      <td>...</td>\n",
       "    </tr>\n",
       "    <tr>\n",
       "      <th>1269</th>\n",
       "      <td>1269</td>\n",
       "      <td>흡수장애 증후군(Malabsorption Syndrome)</td>\n",
       "    </tr>\n",
       "    <tr>\n",
       "      <th>1270</th>\n",
       "      <td>1270</td>\n",
       "      <td>흡인성 폐렴(Aspiration pneumonia)</td>\n",
       "    </tr>\n",
       "    <tr>\n",
       "      <th>1271</th>\n",
       "      <td>1271</td>\n",
       "      <td>희발월경(Oligomenorrhea)</td>\n",
       "    </tr>\n",
       "    <tr>\n",
       "      <th>1272</th>\n",
       "      <td>1272</td>\n",
       "      <td>히스테리성 인격장애(Histrionic personality disorder)</td>\n",
       "    </tr>\n",
       "    <tr>\n",
       "      <th>1273</th>\n",
       "      <td>1273</td>\n",
       "      <td>히스토플라즈마증(Histoplasmosis)</td>\n",
       "    </tr>\n",
       "  </tbody>\n",
       "</table>\n",
       "<p>1273 rows × 2 columns</p>\n",
       "</div>"
      ],
      "text/plain": [
       "      disease_no                                       disease_name\n",
       "1              1                     18번 염색체 단완결실 증후군(18p monosomy)\n",
       "2              2                    18번 염색체 장완결실 증후군 (18q monosomy)\n",
       "3              3                       22번 염색체 장완 미세결실 증후군(CATCH22)\n",
       "4              4          4번 염색체 단완결실 증후군(Wolf-Hirschhorn syndrome)\n",
       "5              5  ARC 증후군(Arthrogryposis, Renal dysfunction, Cho...\n",
       "...          ...                                                ...\n",
       "1269        1269                   흡수장애 증후군(Malabsorption Syndrome)\n",
       "1270        1270                       흡인성 폐렴(Aspiration pneumonia)\n",
       "1271        1271                               희발월경(Oligomenorrhea)\n",
       "1272        1272        히스테리성 인격장애(Histrionic personality disorder)\n",
       "1273        1273                           히스토플라즈마증(Histoplasmosis)\n",
       "\n",
       "[1273 rows x 2 columns]"
      ]
     },
     "execution_count": 23,
     "metadata": {},
     "output_type": "execute_result"
    }
   ],
   "source": [
    "di_df = pd.read_csv('./data/disease.csv', encoding='cp949')\n",
    "di_df = di_df[['disease_no', 'disease_name']]\n",
    "di_df.index = di_df.index + 1\n",
    "di_df"
   ]
  },
  {
   "cell_type": "code",
   "execution_count": 61,
   "id": "b2fd28f5",
   "metadata": {},
   "outputs": [],
   "source": [
    "title = ['정의', '원인', '진단', '치료', '주의', '검사', '경우', '통해', '확인', '증상', '환자', '발생', '대부분']\n",
    "result = []\n",
    "for i in range(1, 1273 + 1):\n",
    "# for i in range(1, 2):\n",
    "    wc_df = pd.read_csv('./data/nouns/'+str(i),sep='\\t', names=['word', 'count'],encoding='utf-8')\n",
    "    wc_df = wc_df.sort_values(by=['count'], axis=0, ascending=False)\n",
    "    \n",
    "    index = []\n",
    "    for j in range(0, len(wc_df)):\n",
    "        if wc_df['word'][j] in di_df['disease_name'][i] or wc_df['word'][j] in title:\n",
    "            index.append(j)\n",
    "    \n",
    "    wc_df.drop(index, inplace=True)\n",
    "    wc_df.sort_values(by=['count'], axis=0, ascending=False)\n",
    "    result.append(\",\".join(wc_df['word'][:5]))\n"
   ]
  },
  {
   "cell_type": "code",
   "execution_count": 65,
   "id": "c00c63c8",
   "metadata": {},
   "outputs": [],
   "source": [
    "d_df = pd.DataFrame(result)\n",
    "d_df.index = d_df.index + 1\n",
    "d_df.to_csv('./output/nouns/result.csv',sep='|', index =True, encoding='utf-8-sig')"
   ]
  }
 ],
 "metadata": {
  "kernelspec": {
   "display_name": "Python 3 (ipykernel)",
   "language": "python",
   "name": "python3"
  },
  "language_info": {
   "codemirror_mode": {
    "name": "ipython",
    "version": 3
   },
   "file_extension": ".py",
   "mimetype": "text/x-python",
   "name": "python",
   "nbconvert_exporter": "python",
   "pygments_lexer": "ipython3",
   "version": "3.9.7"
  }
 },
 "nbformat": 4,
 "nbformat_minor": 5
}

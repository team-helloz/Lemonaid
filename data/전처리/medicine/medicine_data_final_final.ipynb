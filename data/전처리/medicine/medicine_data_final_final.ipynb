{
 "cells": [
  {
   "cell_type": "code",
   "execution_count": 25,
   "id": "d389da6a",
   "metadata": {},
   "outputs": [],
   "source": [
    "import pandas as pd\n",
    "import numpy as np"
   ]
  },
  {
   "cell_type": "code",
   "execution_count": 23,
   "id": "5c140fac",
   "metadata": {},
   "outputs": [],
   "source": [
    "data = pd.read_csv(\"./output/medicine_final2.csv\")"
   ]
  },
  {
   "cell_type": "code",
   "execution_count": 33,
   "id": "d769a1f0",
   "metadata": {},
   "outputs": [
    {
     "data": {
      "text/html": [
       "<div>\n",
       "<style scoped>\n",
       "    .dataframe tbody tr th:only-of-type {\n",
       "        vertical-align: middle;\n",
       "    }\n",
       "\n",
       "    .dataframe tbody tr th {\n",
       "        vertical-align: top;\n",
       "    }\n",
       "\n",
       "    .dataframe thead th {\n",
       "        text-align: right;\n",
       "    }\n",
       "</style>\n",
       "<table border=\"1\" class=\"dataframe\">\n",
       "  <thead>\n",
       "    <tr style=\"text-align: right;\">\n",
       "      <th></th>\n",
       "      <th>Unnamed: 0</th>\n",
       "      <th>품목일련번호</th>\n",
       "      <th>품목명_x</th>\n",
       "      <th>업소일련번호</th>\n",
       "      <th>업소명</th>\n",
       "      <th>성상</th>\n",
       "      <th>표시앞</th>\n",
       "      <th>표시뒤</th>\n",
       "      <th>의약품제형</th>\n",
       "      <th>색상앞</th>\n",
       "      <th>...</th>\n",
       "      <th>표기내용앞</th>\n",
       "      <th>표기내용뒤</th>\n",
       "      <th>표기코드앞</th>\n",
       "      <th>표기코드뒤</th>\n",
       "      <th>품목명_y</th>\n",
       "      <th>원료약품 및 분량</th>\n",
       "      <th>효능효과</th>\n",
       "      <th>용법용량</th>\n",
       "      <th>사용상의주의사항</th>\n",
       "      <th>제형코드</th>\n",
       "    </tr>\n",
       "  </thead>\n",
       "  <tbody>\n",
       "    <tr>\n",
       "      <th>0</th>\n",
       "      <td>0</td>\n",
       "      <td>200808876</td>\n",
       "      <td>가스디알정50밀리그램(디메크로틴산마그네슘)</td>\n",
       "      <td>19540006</td>\n",
       "      <td>일동제약(주)</td>\n",
       "      <td>녹색의원형필름코팅정</td>\n",
       "      <td>IDG</td>\n",
       "      <td>-</td>\n",
       "      <td>원형</td>\n",
       "      <td>연두</td>\n",
       "      <td>...</td>\n",
       "      <td>-</td>\n",
       "      <td>-</td>\n",
       "      <td>-</td>\n",
       "      <td>-</td>\n",
       "      <td>가스디알정50밀리그램(디메크로틴산마그네슘)</td>\n",
       "      <td>유효성분 : 디메크로틴산마그네슘|총량 : 1정 (161.0mg) 중  |  성분명 ...</td>\n",
       "      <td>소화불량, 구역, 구토 등의 증상치료</td>\n",
       "      <td>성인 : 디메크로틴산마그네슘으로서 1회 50 mg을 1일 3회 식전에 경구투여한다.</td>\n",
       "      <td>1. 다음 환자에는 투여하지 말 것.\\n담관 폐색 또는 중증 간부전 환자\\n2. 이...</td>\n",
       "      <td>0</td>\n",
       "    </tr>\n",
       "    <tr>\n",
       "      <th>1</th>\n",
       "      <td>1</td>\n",
       "      <td>200808877</td>\n",
       "      <td>페라트라정2.5밀리그램(레트로졸)</td>\n",
       "      <td>19560004</td>\n",
       "      <td>(주)유한양행</td>\n",
       "      <td>어두운황색의원형필름코팅정</td>\n",
       "      <td>YH</td>\n",
       "      <td>LT</td>\n",
       "      <td>원형</td>\n",
       "      <td>노랑</td>\n",
       "      <td>...</td>\n",
       "      <td>-</td>\n",
       "      <td>-</td>\n",
       "      <td>-</td>\n",
       "      <td>-</td>\n",
       "      <td>페라트라정2.5밀리그램(레트로졸)</td>\n",
       "      <td>유효성분 : 레트로졸|총량 : 이 약 1정(약 103mg) 중  |  성분명 : 레...</td>\n",
       "      <td>1. 에스트로겐 또는 프로게스테론 수용체 양성이거나 또는 수용체 상태가 알려지지 않...</td>\n",
       "      <td>○ 성인 및 고령자\\n: 권장용량은 식사와 상관없이 레트로졸로서 1일 1회 2.5 ...</td>\n",
       "      <td>1. 다음 환자에는 투여하지 말 것.\\n1) 이 약 또는 이 약의 구성성분에 대한 ...</td>\n",
       "      <td>0</td>\n",
       "    </tr>\n",
       "    <tr>\n",
       "      <th>2</th>\n",
       "      <td>2</td>\n",
       "      <td>200808948</td>\n",
       "      <td>졸뎀속붕정(졸피뎀타르타르산염)</td>\n",
       "      <td>20080422</td>\n",
       "      <td>보령제약(주)</td>\n",
       "      <td>흰색의원형구강붕해정제</td>\n",
       "      <td>-</td>\n",
       "      <td>-</td>\n",
       "      <td>원형</td>\n",
       "      <td>하양</td>\n",
       "      <td>...</td>\n",
       "      <td>-</td>\n",
       "      <td>-</td>\n",
       "      <td>-</td>\n",
       "      <td>-</td>\n",
       "      <td>졸뎀속붕정(졸피뎀타르타르산염)</td>\n",
       "      <td>유효성분 : 졸피뎀타르타르산염|총량 : 1정 (250.0mg) 중  |  성분명 :...</td>\n",
       "      <td>불면증</td>\n",
       "      <td>이 약은 작용발현이 빠르므로, 취침 바로 직전에 혀 위에 놓고 녹여서 물 없이 경구...</td>\n",
       "      <td>1. 경고\\n1) 수면 장애는 신체적 및/또는 정신적 장애를 나타내는 소견일 수 있...</td>\n",
       "      <td>0</td>\n",
       "    </tr>\n",
       "    <tr>\n",
       "      <th>3</th>\n",
       "      <td>3</td>\n",
       "      <td>200809076</td>\n",
       "      <td>가스프렌정(모사프리드시트르산염이수화물)</td>\n",
       "      <td>19760002</td>\n",
       "      <td>경동제약(주)</td>\n",
       "      <td>분할선을가진흰색의장방형필름코팅정제</td>\n",
       "      <td>KD</td>\n",
       "      <td>분할선</td>\n",
       "      <td>장방형</td>\n",
       "      <td>하양</td>\n",
       "      <td>...</td>\n",
       "      <td>-</td>\n",
       "      <td>-</td>\n",
       "      <td>-</td>\n",
       "      <td>-</td>\n",
       "      <td>가스프렌정(모사프리드시트르산염이수화물)</td>\n",
       "      <td>유효성분 : 모사프리드시트르산염이수화물|총량 : 이 약 1정(135밀리그램) 중  ...</td>\n",
       "      <td>기능성소화불량으로 인한 소화기증상(속쓰림, 구역, 구토)</td>\n",
       "      <td>성인: 모사프리드시트르산염무수물로서 1일 15 mg을 3회로 나누어 식전 또는 식후...</td>\n",
       "      <td>1. 다음 환자에는 투여하지 말 것.\\n이 약은 유당을 함유하고 있으므로, 갈락토오...</td>\n",
       "      <td>0</td>\n",
       "    </tr>\n",
       "    <tr>\n",
       "      <th>4</th>\n",
       "      <td>4</td>\n",
       "      <td>200809276</td>\n",
       "      <td>디텐션정80밀리그램(발사르탄)</td>\n",
       "      <td>19700003</td>\n",
       "      <td>일성신약(주)</td>\n",
       "      <td>주황색의원형필름코팅정</td>\n",
       "      <td>ISP</td>\n",
       "      <td>D분할선T</td>\n",
       "      <td>원형</td>\n",
       "      <td>분홍</td>\n",
       "      <td>...</td>\n",
       "      <td>-</td>\n",
       "      <td>-</td>\n",
       "      <td>-</td>\n",
       "      <td>-</td>\n",
       "      <td>디텐션정80밀리그램(발사르탄)</td>\n",
       "      <td>유효성분 : 발사르탄|총량 : 1정 (166mg) 중  |  성분명 : 발사르탄  ...</td>\n",
       "      <td>* 40, 80, 160 mg\\n1. 본태고혈압\\n2. 심부전\\nACE억제제에 불내...</td>\n",
       "      <td>(정제)\\n* 40, 80, 160 mg\\n1. 본태고혈압\\n식사 중 물과 함께 복...</td>\n",
       "      <td>1. 경고\\n임부에게 레닌-안지오텐신-알도스테론계(RAAS)에 직접 작용하는 약물들...</td>\n",
       "      <td>0</td>\n",
       "    </tr>\n",
       "  </tbody>\n",
       "</table>\n",
       "<p>5 rows × 30 columns</p>\n",
       "</div>"
      ],
      "text/plain": [
       "   Unnamed: 0     품목일련번호                    품목명_x    업소일련번호      업소명  \\\n",
       "0           0  200808876  가스디알정50밀리그램(디메크로틴산마그네슘)  19540006  일동제약(주)   \n",
       "1           1  200808877       페라트라정2.5밀리그램(레트로졸)  19560004  (주)유한양행   \n",
       "2           2  200808948         졸뎀속붕정(졸피뎀타르타르산염)  20080422  보령제약(주)   \n",
       "3           3  200809076    가스프렌정(모사프리드시트르산염이수화물)  19760002  경동제약(주)   \n",
       "4           4  200809276         디텐션정80밀리그램(발사르탄)  19700003  일성신약(주)   \n",
       "\n",
       "                   성상  표시앞    표시뒤 의약품제형 색상앞  ... 표기내용앞 표기내용뒤 표기코드앞 표기코드뒤  \\\n",
       "0          녹색의원형필름코팅정  IDG      -    원형  연두  ...     -     -     -     -   \n",
       "1       어두운황색의원형필름코팅정   YH     LT    원형  노랑  ...     -     -     -     -   \n",
       "2         흰색의원형구강붕해정제    -      -    원형  하양  ...     -     -     -     -   \n",
       "3  분할선을가진흰색의장방형필름코팅정제   KD    분할선   장방형  하양  ...     -     -     -     -   \n",
       "4         주황색의원형필름코팅정  ISP  D분할선T    원형  분홍  ...     -     -     -     -   \n",
       "\n",
       "                     품목명_y                                          원료약품 및 분량  \\\n",
       "0  가스디알정50밀리그램(디메크로틴산마그네슘)  유효성분 : 디메크로틴산마그네슘|총량 : 1정 (161.0mg) 중  |  성분명 ...   \n",
       "1       페라트라정2.5밀리그램(레트로졸)  유효성분 : 레트로졸|총량 : 이 약 1정(약 103mg) 중  |  성분명 : 레...   \n",
       "2         졸뎀속붕정(졸피뎀타르타르산염)  유효성분 : 졸피뎀타르타르산염|총량 : 1정 (250.0mg) 중  |  성분명 :...   \n",
       "3    가스프렌정(모사프리드시트르산염이수화물)  유효성분 : 모사프리드시트르산염이수화물|총량 : 이 약 1정(135밀리그램) 중  ...   \n",
       "4         디텐션정80밀리그램(발사르탄)  유효성분 : 발사르탄|총량 : 1정 (166mg) 중  |  성분명 : 발사르탄  ...   \n",
       "\n",
       "                                                효능효과  \\\n",
       "0                               소화불량, 구역, 구토 등의 증상치료   \n",
       "1  1. 에스트로겐 또는 프로게스테론 수용체 양성이거나 또는 수용체 상태가 알려지지 않...   \n",
       "2                                                불면증   \n",
       "3                    기능성소화불량으로 인한 소화기증상(속쓰림, 구역, 구토)   \n",
       "4  * 40, 80, 160 mg\\n1. 본태고혈압\\n2. 심부전\\nACE억제제에 불내...   \n",
       "\n",
       "                                                용법용량  \\\n",
       "0     성인 : 디메크로틴산마그네슘으로서 1회 50 mg을 1일 3회 식전에 경구투여한다.   \n",
       "1  ○ 성인 및 고령자\\n: 권장용량은 식사와 상관없이 레트로졸로서 1일 1회 2.5 ...   \n",
       "2  이 약은 작용발현이 빠르므로, 취침 바로 직전에 혀 위에 놓고 녹여서 물 없이 경구...   \n",
       "3  성인: 모사프리드시트르산염무수물로서 1일 15 mg을 3회로 나누어 식전 또는 식후...   \n",
       "4  (정제)\\n* 40, 80, 160 mg\\n1. 본태고혈압\\n식사 중 물과 함께 복...   \n",
       "\n",
       "                                            사용상의주의사항 제형코드  \n",
       "0  1. 다음 환자에는 투여하지 말 것.\\n담관 폐색 또는 중증 간부전 환자\\n2. 이...    0  \n",
       "1  1. 다음 환자에는 투여하지 말 것.\\n1) 이 약 또는 이 약의 구성성분에 대한 ...    0  \n",
       "2  1. 경고\\n1) 수면 장애는 신체적 및/또는 정신적 장애를 나타내는 소견일 수 있...    0  \n",
       "3  1. 다음 환자에는 투여하지 말 것.\\n이 약은 유당을 함유하고 있으므로, 갈락토오...    0  \n",
       "4  1. 경고\\n임부에게 레닌-안지오텐신-알도스테론계(RAAS)에 직접 작용하는 약물들...    0  \n",
       "\n",
       "[5 rows x 30 columns]"
      ]
     },
     "execution_count": 33,
     "metadata": {},
     "output_type": "execute_result"
    }
   ],
   "source": [
    "data.head()"
   ]
  },
  {
   "cell_type": "code",
   "execution_count": 21,
   "id": "3b7df29a",
   "metadata": {},
   "outputs": [],
   "source": [
    "data['분할선앞'] = data['표시앞'].apply(lambda x: x if '분할선' in x else '없음')"
   ]
  },
  {
   "cell_type": "code",
   "execution_count": 4,
   "id": "a2fb3326",
   "metadata": {},
   "outputs": [
    {
     "name": "stdout",
     "output_type": "stream",
     "text": [
      "Unnamed: 0\n",
      "품목일련번호\n",
      "품목명_x\n",
      "업소일련번호\n",
      "업소명\n",
      "성상\n",
      "표시앞\n",
      "표시뒤\n",
      "의약품제형\n",
      "색상앞\n",
      "색상뒤\n",
      "분할선앞\n",
      "분할선뒤\n",
      "크기장축\n",
      "크기단축\n",
      "크기두께\n",
      "분류번호\n",
      "분류명\n",
      "전문일반구분\n",
      "제형코드명\n",
      "표기내용앞\n",
      "표기내용뒤\n",
      "표기코드앞\n",
      "표기코드뒤\n",
      "품목명_y\n",
      "원료약품 및 분량\n",
      "효능효과\n",
      "용법용량\n",
      "사용상의주의사항\n"
     ]
    }
   ],
   "source": [
    "for column in data:\n",
    "    print(column)"
   ]
  },
  {
   "cell_type": "code",
   "execution_count": 7,
   "id": "ad2da059",
   "metadata": {},
   "outputs": [
    {
     "name": "stdout",
     "output_type": "stream",
     "text": [
      "{'지지체가있는첩부제': 1, '산제': 1, '장용성필름코팅당의정': 6, '발포정': 4, '필름코팅정': 12117, '흡입제|미분류': 2, '다층정': 293, '캡슐': 2, '부착정': 1, '정제|미분류': 46, '캡슐|미분류': 17, '서방성장용필름코팅정': 4, '정제': 7, '구강붕해필름': 24, '장용성캡슐제|펠렛': 118, '경질캡슐제|과립제정제': 13, '장용성캡슐제|정제': 6, '경질캡슐제|서방성장용성펠렛': 26, '정량흡입제|분말제': 12, '경질캡슐제|과립제': 306, '트로키제': 42, '나정': 4114, '질연질캡슐제': 4, '박칼정': 5, '장용성필름코팅캡슐제': 6, '추어블정(저작정)': 208, '장용성필름코팅정': 649, '연질캡슐제|액상': 909, '경질캡슐제|장용성과립제': 87, '장용성당의정': 29, '젤라틴코팅성경질캡슐제': 20, '분산정(현탁정)': 23, '경질캡슐제|산제': 2901, '설하정': 30, '정량분말분무제': 1, '서방성다층정': 39, '서방성필름코팅정': 585, '장용정': 20, '경질캡슐제|정제': 13, '구강붕해정': 160, '연질캡슐제|현탁상': 802, '당의정': 333, '-': 37, '껌제': 4, '스팬슐': 16, '질좌제|일반': 2, '서방정': 139, '서방성캡슐제|펠렛': 185, '질정': 12, '유핵정': 1}\n"
     ]
    }
   ],
   "source": [
    "d = dict()\n",
    "for i in data['제형코드명']:\n",
    "    if i in d.keys():\n",
    "        d[i] += 1\n",
    "    else:\n",
    "        d[i] = 1\n",
    "print(d)"
   ]
  },
  {
   "cell_type": "code",
   "execution_count": 31,
   "id": "17c5fd67",
   "metadata": {},
   "outputs": [
    {
     "name": "stdout",
     "output_type": "stream",
     "text": [
      "{0: 18671, 1: 3368, 2: 1716, 3: 631}\n"
     ]
    }
   ],
   "source": [
    "my_code = dict()\n",
    "my_code[0] = 1\n",
    "my_code[1] = 1\n",
    "my_code[2] = 1\n",
    "my_code[3] = 1\n",
    "\n",
    "\n",
    "lst_0 = ['정제', '나정', '장용성필름코팅당의정', '질정', '유핵정', '당의정', '서방성다층정', '서방정', '서방성필름코팅정', '장용정', '설하정', '분산정(현탁정)', '장용성당의정', '발포정', '필름코팅정', '다층정', '정제|미분류', '서방성장용필름코팅정', '장용성캡슐제|정제', '박칼정', '추어블정(저작정)', '장용성필름코팅정', ]\n",
    "lst_1 = ['산제', '경질캡슐제|과립제정제', '경질캡슐제|정제', '경질캡슐제|산제', '젤라틴코팅성경질캡슐제', '경질캡슐제|서방성장용성펠렛', '경질캡슐제|과립제', '경질캡슐제|장용성과립제', ]\n",
    "lst_2 = ['질연질캡슐제', '연질캡슐제|액상', '연질캡슐제|현탁상', ]\n",
    "\n",
    "\n",
    "for i in data['제형코드명']:\n",
    "    if i in lst_0:\n",
    "        my_code[0] += 1\n",
    "    elif i in lst_1:\n",
    "        my_code[1] += 1\n",
    "    elif i in lst_2:\n",
    "        my_code[2] += 1\n",
    "    else:\n",
    "        my_code[3] += 1\n",
    "\n",
    "print(my_code)\n"
   ]
  },
  {
   "cell_type": "code",
   "execution_count": 32,
   "id": "5db5f14d",
   "metadata": {},
   "outputs": [],
   "source": [
    "def my_func2(row):\n",
    "    if row['제형코드명'] in lst_0:\n",
    "        return 0\n",
    "    elif row['제형코드명'] in lst_1:\n",
    "        return 1\n",
    "    elif row['제형코드명'] in lst_2:\n",
    "        return 2\n",
    "    else:\n",
    "        return 3\n",
    "\n",
    "data['제형코드'] = data.apply(my_func2, axis=1)"
   ]
  },
  {
   "cell_type": "code",
   "execution_count": 28,
   "id": "90a36645",
   "metadata": {},
   "outputs": [
    {
     "name": "stdout",
     "output_type": "stream",
     "text": [
      "{'-': 2034, '+': 15, '없음': 22327, '기타': 6}\n"
     ]
    }
   ],
   "source": [
    "a = dict()\n",
    "for i in data['분할선앞']:\n",
    "    if i in a.keys():\n",
    "        a[i] += 1\n",
    "    else:\n",
    "        a[i] = 1\n",
    "print(a)"
   ]
  },
  {
   "cell_type": "code",
   "execution_count": 30,
   "id": "59f2a938",
   "metadata": {},
   "outputs": [
    {
     "name": "stdout",
     "output_type": "stream",
     "text": [
      "{'-': 4822, '+': 194, '없음': 43729, '기타': 19}\n"
     ]
    }
   ],
   "source": [
    "b = dict()\n",
    "for i in data['분할선뒤']:\n",
    "    if i in a.keys():\n",
    "        a[i] += 1\n",
    "    else:\n",
    "        a[i] = 1\n",
    "print(a)"
   ]
  },
  {
   "cell_type": "code",
   "execution_count": 27,
   "id": "ee9efa4d",
   "metadata": {},
   "outputs": [],
   "source": [
    "def my_func(row):\n",
    "    if '분할선' in row['표시앞']:\n",
    "        return row['분할선앞']\n",
    "    else:\n",
    "        return '없음'\n",
    "    \n",
    "data['분할선앞'] = data.apply(my_func, axis=1)\n",
    "        "
   ]
  },
  {
   "cell_type": "code",
   "execution_count": 29,
   "id": "7b14dd63",
   "metadata": {},
   "outputs": [],
   "source": [
    "def my_func(row):\n",
    "    if '분할선' in row['표시뒤']:\n",
    "        return row['분할선뒤']\n",
    "    else:\n",
    "        return '없음'\n",
    "    \n",
    "data['분할선뒤'] = data.apply(my_func, axis=1)"
   ]
  },
  {
   "cell_type": "code",
   "execution_count": 34,
   "id": "04052e91",
   "metadata": {},
   "outputs": [],
   "source": [
    "data.to_csv(\"./output/medicine_final3.csv\", sep=',', na_rep=-1, encoding=\"utf-8-sig\")"
   ]
  },
  {
   "cell_type": "code",
   "execution_count": null,
   "id": "cd10390c",
   "metadata": {},
   "outputs": [],
   "source": []
  }
 ],
 "metadata": {
  "kernelspec": {
   "display_name": "Python 3",
   "language": "python",
   "name": "python3"
  },
  "language_info": {
   "codemirror_mode": {
    "name": "ipython",
    "version": 3
   },
   "file_extension": ".py",
   "mimetype": "text/x-python",
   "name": "python",
   "nbconvert_exporter": "python",
   "pygments_lexer": "ipython3",
   "version": "3.5.3"
  }
 },
 "nbformat": 4,
 "nbformat_minor": 5
}

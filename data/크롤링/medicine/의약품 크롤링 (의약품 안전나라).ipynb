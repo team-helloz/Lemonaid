{
 "cells": [
  {
   "cell_type": "code",
   "execution_count": 8,
   "id": "beabe858",
   "metadata": {},
   "outputs": [],
   "source": [
    "import pandas as pd\n",
    "\n",
    "from selenium import webdriver\n",
    "from selenium.webdriver.common.keys import Keys\n",
    "from selenium.webdriver.common.by import By"
   ]
  },
  {
   "cell_type": "code",
   "execution_count": 9,
   "id": "283e5c40",
   "metadata": {},
   "outputs": [],
   "source": [
    "import csv\n",
    "import time"
   ]
  },
  {
   "cell_type": "code",
   "execution_count": 10,
   "id": "df6f2f84",
   "metadata": {},
   "outputs": [],
   "source": [
    "md = pd.read_csv('./data/medicine_shape.csv')"
   ]
  },
  {
   "cell_type": "code",
   "execution_count": 15,
   "id": "9b3d9eae",
   "metadata": {},
   "outputs": [
    {
     "name": "stdout",
     "output_type": "stream",
     "text": [
      "[200808876, 200808877, 200808948, 200809076, 200809276]\n",
      "24316\n"
     ]
    }
   ],
   "source": [
    "medicine_name = []\n",
    "medicine_num = []\n",
    "\n",
    "for i, j in zip(md['품목일련번호'], md['품목명']):\n",
    "    medicine_num.append(i)    \n",
    "    medicine_name.append(j)\n",
    "\n",
    "print(medicine_num[:5])\n",
    "print(len(medicine_name))\n",
    "    "
   ]
  },
  {
   "cell_type": "code",
   "execution_count": 55,
   "id": "91d82fcf",
   "metadata": {},
   "outputs": [],
   "source": [
    "driver = webdriver.Chrome()\n",
    "\n",
    "url = 'https://nedrug.mfds.go.kr/pbp/CCBBB01/getItemDetail?itemSeq='\n",
    "\n",
    "\n",
    "f = open('./output/medicine_craw.csv', 'a', newline='', encoding=\"utf-8-sig\" )\n",
    "wr = csv.writer(f)\n",
    "\n",
    "cnt = 0\n",
    "for i in range(10):\n",
    "    my_url = url + str(medicine_num[i])\n",
    "    driver.get(my_url)\n",
    "    time.sleep(2)\n",
    "    temp = []\n",
    "    temp.append(medicine_num[i])\n",
    "    temp.append(medicine_name[i])\n",
    "    \n",
    "    try:\n",
    "        a1 = driver.find_element_by_css_selector('#scroll_02 > h3.cont_title3.mt27.pb10').text\n",
    "        a2 = driver.find_element_by_css_selector('#scroll_02 > div.info_box.cw > p').text\n",
    "        a = a1 + '|' + a2\n",
    "    except:\n",
    "        a = ''\n",
    "\n",
    "    temp.append(a)\n",
    "\n",
    "    try:\n",
    "        b = driver.find_element_by_css_selector('#_ee_doc').text\n",
    "    except:\n",
    "        b = ''\n",
    "\n",
    "    temp.append(b)\n",
    "\n",
    "    try:\n",
    "        c = driver.find_element_by_css_selector('#_ud_doc').text\n",
    "    except:\n",
    "        c = ''\n",
    "\n",
    "    temp.append(c)\n",
    "\n",
    "    try:\n",
    "        last_info = ''\n",
    "        d = driver.find_element_by_css_selector('#_nb_doc')\n",
    "        titles = d.find_elements(By.CLASS_NAME, \"title\")\n",
    "        divs = d.find_elements(By.TAG_NAME, \"div\")\n",
    "        cnt = 0\n",
    "        for div in divs:\n",
    "            ps = div.find_elements(By.CLASS_NAME, \"note\")\n",
    "            if ps:\n",
    "                last_info += titles[cnt].text + '\\n'\n",
    "                cnt += 1\n",
    "                for p in ps:\n",
    "                    last_info += p.text\n",
    "                last_info += '\\n'\n",
    "    except:\n",
    "        last_info = ''\n",
    "\n",
    "    \n",
    "    temp.append(last_info)\n",
    "    \n",
    "    wr.writerow(temp)\n",
    "driver.close()\n",
    "f.close()"
   ]
  },
  {
   "cell_type": "code",
   "execution_count": 54,
   "id": "3c5c49bc",
   "metadata": {},
   "outputs": [],
   "source": [
    "f = open('./output/medicine_craw.csv', 'w', newline='', encoding=\"utf-8-sig\" )\n",
    "wr = csv.writer(f)\n",
    "wr.writerow(['품목일련번호', '품목명', '원료약품 및 분량', '효능효과', '용법용량', '사용상의주의사항'])\n",
    "f.close()"
   ]
  },
  {
   "cell_type": "code",
   "execution_count": null,
   "id": "16eac2cd",
   "metadata": {},
   "outputs": [],
   "source": []
  },
  {
   "cell_type": "code",
   "execution_count": 5,
   "id": "97ab14b9",
   "metadata": {},
   "outputs": [],
   "source": [
    "test = pd.read_csv(\"./output/medicine_craw.csv\")"
   ]
  },
  {
   "cell_type": "code",
   "execution_count": 6,
   "id": "8aa05ecb",
   "metadata": {},
   "outputs": [
    {
     "name": "stdout",
     "output_type": "stream",
     "text": [
      "3449\n"
     ]
    }
   ],
   "source": [
    "cnt = 0\n",
    "for column in test['품목일련번호']:\n",
    "    cnt += 1\n",
    "print(cnt)"
   ]
  },
  {
   "cell_type": "code",
   "execution_count": null,
   "id": "81a25658",
   "metadata": {},
   "outputs": [],
   "source": []
  },
  {
   "cell_type": "code",
   "execution_count": 11,
   "id": "a9d517f5",
   "metadata": {},
   "outputs": [],
   "source": [
    "f.close()"
   ]
  },
  {
   "cell_type": "code",
   "execution_count": null,
   "id": "fa27e442",
   "metadata": {},
   "outputs": [],
   "source": []
  },
  {
   "cell_type": "code",
   "execution_count": null,
   "id": "88c58230",
   "metadata": {},
   "outputs": [],
   "source": []
  }
 ],
 "metadata": {
  "kernelspec": {
   "display_name": "Python 3",
   "language": "python",
   "name": "python3"
  },
  "language_info": {
   "codemirror_mode": {
    "name": "ipython",
    "version": 3
   },
   "file_extension": ".py",
   "mimetype": "text/x-python",
   "name": "python",
   "nbconvert_exporter": "python",
   "pygments_lexer": "ipython3",
   "version": "3.5.3"
  }
 },
 "nbformat": 4,
 "nbformat_minor": 5
}

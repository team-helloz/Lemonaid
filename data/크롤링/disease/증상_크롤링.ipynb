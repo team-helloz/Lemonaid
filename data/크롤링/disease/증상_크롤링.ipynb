{
 "cells": [
  {
   "cell_type": "code",
   "execution_count": 2,
   "id": "924471fb",
   "metadata": {},
   "outputs": [],
   "source": [
    "from selenium import webdriver\n",
    "from selenium.webdriver.common.keys import Keys\n",
    "from selenium.webdriver.support.ui import WebDriverWait\n",
    "from selenium.webdriver.support import expected_conditions as EC\n",
    "from selenium.webdriver.common.by import By"
   ]
  },
  {
   "cell_type": "code",
   "execution_count": 3,
   "id": "a4db795e",
   "metadata": {},
   "outputs": [],
   "source": [
    "from bs4 import BeautifulSoup\n",
    "import time"
   ]
  },
  {
   "cell_type": "code",
   "execution_count": 4,
   "id": "d3b5ff93",
   "metadata": {},
   "outputs": [],
   "source": [
    "chrome_driver = './chromedriver_win32/chromedriver.exe'\n",
    "driver = webdriver.Chrome(chrome_driver)"
   ]
  },
  {
   "cell_type": "code",
   "execution_count": null,
   "id": "f7c24c2d",
   "metadata": {},
   "outputs": [],
   "source": [
    "symptoms = []\n",
    "for i in range(1,21):\n",
    "    id = str(i);\n",
    "    if i < 10:\n",
    "        id = '0'+id\n",
    "    driver.get('https://www.amc.seoul.kr/asan/healthinfo/symptom/symptomSubmain.do?partId=B0000' + id)\n",
    "    time.sleep(2)\n",
    "    \n",
    "    part = driver.find_element_by_css_selector('.on a').text\n",
    "    if part == '그 외':\n",
    "        part = driver.find_element_by_css_selector('.on li.current a').get_attribute('innerHTML')\n",
    "        time.sleep(2)\n",
    "    \n",
    "    sym_list =  driver.find_elements_by_css_selector('#bodyParent > div > ul > li')\n",
    "    \n",
    "    for s in sym_list:\n",
    "        sym = s.find_element_by_tag_name('label').get_attribute('innerHTML')\n",
    "        symptoms.append([part, sym])\n"
   ]
  },
  {
   "cell_type": "code",
   "execution_count": 51,
   "id": "c707c0cd",
   "metadata": {},
   "outputs": [
    {
     "name": "stdout",
     "output_type": "stream",
     "text": [
      "     증상부위           증상\n",
      "0      골반         거대자궁\n",
      "1      골반      거품있는 소변\n",
      "2      골반        골반 통증\n",
      "3      골반          긴박뇨\n",
      "4      골반           다뇨\n",
      "...   ...          ...\n",
      "1005   가슴       화농성 객담\n",
      "1006   가슴        흉곽 팽윤\n",
      "1007   가슴        흉부압박감\n",
      "1008   가슴  흉쇄 유돌근의 몽우리\n",
      "1009   가슴           흉수\n",
      "\n",
      "[1010 rows x 2 columns]\n"
     ]
    }
   ],
   "source": [
    "import pandas as pd\n",
    "df = pd.DataFrame(symptoms, columns = ['symptom_site', 'symptom_name'])\n",
    "df.index = df.index + 1\n",
    "df.to_csv('./symptom.csv', index=True, encoding=\"utf-8-sig\")"
   ]
  }
 ],
 "metadata": {
  "kernelspec": {
   "display_name": "Python 3 (ipykernel)",
   "language": "python",
   "name": "python3"
  },
  "language_info": {
   "codemirror_mode": {
    "name": "ipython",
    "version": 3
   },
   "file_extension": ".py",
   "mimetype": "text/x-python",
   "name": "python",
   "nbconvert_exporter": "python",
   "pygments_lexer": "ipython3",
   "version": "3.9.7"
  }
 },
 "nbformat": 4,
 "nbformat_minor": 5
}

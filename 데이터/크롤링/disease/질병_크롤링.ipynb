{
 "cells": [
  {
   "cell_type": "code",
   "execution_count": 68,
   "id": "82f4eae6",
   "metadata": {},
   "outputs": [],
   "source": [
    "from selenium import webdriver\n",
    "from selenium.webdriver.common.keys import Keys\n",
    "from selenium.webdriver.support.ui import WebDriverWait\n",
    "from selenium.webdriver.support import expected_conditions as EC\n",
    "from selenium.webdriver.common.by import By"
   ]
  },
  {
   "cell_type": "code",
   "execution_count": 69,
   "id": "f21694a9",
   "metadata": {},
   "outputs": [],
   "source": [
    "from bs4 import BeautifulSoup\n",
    "import time"
   ]
  },
  {
   "cell_type": "code",
   "execution_count": 70,
   "id": "3151170c",
   "metadata": {},
   "outputs": [],
   "source": [
    "import os\n",
    "from urllib.request import urlretrieve"
   ]
  },
  {
   "cell_type": "code",
   "execution_count": 71,
   "id": "afac23d9",
   "metadata": {},
   "outputs": [],
   "source": [
    "options = webdriver.ChromeOptions()\n",
    "\n",
    "options.add_argument('headless')\n",
    "options.add_argument('window-size=1920x1080')\n",
    "options.add_argument(\"disable-gpu\")\n",
    "\n",
    "chrome_driver = './chromedriver_win32/chromedriver.exe'\n",
    "driver = webdriver.Chrome(chrome_driver, options=options)"
   ]
  },
  {
   "cell_type": "code",
   "execution_count": 73,
   "id": "1dc0bd0f",
   "metadata": {
    "scrolled": false
   },
   "outputs": [],
   "source": [
    "disease_list = []\n",
    "\n",
    "img_folder = './disease_img'\n",
    "\n",
    "if not os.path.isdir(img_folder):\n",
    "    os.mkdir(img_folder)\n",
    "\n",
    "count = 1\n",
    "\n",
    "for i in range(1, 65):\n",
    "    driver.get('https://www.amc.seoul.kr/asan/healthinfo/disease/diseaseList.do?pageIndex='+str(i)+'&searchKeyword=')\n",
    "    time.sleep(2)\n",
    "\n",
    "    li = driver.find_element_by_class_name('descBox').find_elements_by_tag_name('li')\n",
    "\n",
    "    size = len(li)\n",
    "    for j in range(0, size):\n",
    "        li = driver.find_element_by_class_name('descBox').find_elements_by_tag_name('li')\n",
    "        li[j].find_element_by_tag_name('a').click()\n",
    "        time.sleep(2)\n",
    "\n",
    "        disease = {}\n",
    "\n",
    "        img_src = driver.find_element_by_css_selector('.descBox > li > div.imgBox > img').get_attribute('src')\n",
    "        urlretrieve(img_src, img_folder+'/'+str(count)+'.jpg')\n",
    "        \n",
    "        disease['name'] = driver.find_element_by_class_name('contTitle').text        \n",
    "        \n",
    "        dt = driver.find_elements_by_tag_name('dt')\n",
    "        dd = driver.find_elements_by_tag_name('dd')\n",
    "        \n",
    "        for i in range(0, len(dd)):\n",
    "            dt_text = dt[i].text\n",
    "            \n",
    "            if dt_text == '증상':\n",
    "                aList = dd[i].find_elements_by_tag_name('a')\n",
    "                if len(aList) > 0 :\n",
    "                    symptoms = []                \n",
    "                    for s in dd[i].find_elements_by_tag_name('a'):\n",
    "                        symptoms.append(s.text)\n",
    "                    disease['symptoms'] = symptoms\n",
    "                else:\n",
    "                    disease['symptom_description'] = dd[i].text\n",
    "            elif dt_text == '관련질환':\n",
    "                related = []\n",
    "                for r in dd[i].find_elements_by_tag_name('a'):\n",
    "                    related.append(r.text)\n",
    "                disease['related'] = related\n",
    "            elif dt_text == '진료과':\n",
    "                subjects = []\n",
    "                for s in dd[i].find_elements_by_tag_name('a'):\n",
    "                    subjects.append(s.text)\n",
    "                disease['subjects'] = subjects\n",
    "            elif dt_text == '동의어':\n",
    "                disease['synonym'] = dd[i].text\n",
    "            elif dt_text =='정의':\n",
    "                disease['definition'] = dd[i].text\n",
    "            elif dt_text == '원인':\n",
    "                disease['cause'] = dd[i].text\n",
    "            elif dt_text == '진단':\n",
    "                disease['diagnosis'] = dd[i].text\n",
    "            elif dt_text == '치료':\n",
    "                disease['treat'] = dd[i].text\n",
    "            elif dt_text == '주의사항':\n",
    "                disease['caution'] = dd[i].text\n",
    "        driver.back()\n",
    "        time.sleep(2)\n",
    "        count += 1\n",
    "        disease_list.append(disease)"
   ]
  },
  {
   "cell_type": "code",
   "execution_count": 74,
   "id": "a4951459",
   "metadata": {},
   "outputs": [],
   "source": [
    "import pandas as pd\n",
    "df = pd.DataFrame()\n",
    "for d in disease_list:\n",
    "    df = df.append(d, ignore_index= True)\n",
    "\n",
    "dis_df = dis_df.fillna('')\n",
    "dis_df.to_csv('./disease.csv', index=False, encoding=\"utf-8-sig\")"
   ]
  }
 ],
 "metadata": {
  "kernelspec": {
   "display_name": "Python 3 (ipykernel)",
   "language": "python",
   "name": "python3"
  },
  "language_info": {
   "codemirror_mode": {
    "name": "ipython",
    "version": 3
   },
   "file_extension": ".py",
   "mimetype": "text/x-python",
   "name": "python",
   "nbconvert_exporter": "python",
   "pygments_lexer": "ipython3",
   "version": "3.9.7"
  }
 },
 "nbformat": 4,
 "nbformat_minor": 5
}
